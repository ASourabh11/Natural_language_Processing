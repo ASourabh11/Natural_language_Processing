{
 "cells": [
  {
   "cell_type": "markdown",
   "metadata": {},
   "source": [
    "## Practice notebook for Sentence and Word tokenizing"
   ]
  },
  {
   "cell_type": "markdown",
   "metadata": {},
   "source": [
    "## 1. Importing NLTK library"
   ]
  },
  {
   "cell_type": "code",
   "execution_count": 1,
   "metadata": {},
   "outputs": [],
   "source": [
    "import nltk"
   ]
  },
  {
   "cell_type": "markdown",
   "metadata": {},
   "source": [
    "## 2. Importing Information about Natural language processing from wikipedia"
   ]
  },
  {
   "cell_type": "code",
   "execution_count": 18,
   "metadata": {},
   "outputs": [],
   "source": [
    "Corpus= \"\"\"Symbolic NLP (1950s - early 1990s)\n",
    "The premise of symbolic NLP is well-summarized by John Searle's Chinese room experiment: \n",
    "Given a collection of rules (e.g., a Chinese phrasebook, with questions and matching answers), \n",
    "the computer emulates natural language understanding (or other NLP tasks) \n",
    "by applying those rules to the data it is confronted with.\n",
    "\n",
    "1950s: The Georgetown experiment in 1954 involved fully automatic translation of more than sixty Russian sentences into English.\n",
    "The authors claimed that within three or five years, machine translation would be a solved problem.\n",
    "[2] However, real progress was much slower, and after the ALPAC report in 1966, \n",
    "which found that ten-year-long research had failed to fulfill the expectations,\n",
    "funding for machine translation was dramatically reduced. \n",
    "Little further research in machine translation was conducted until \n",
    "the late 1980s when the first statistical machine translation systems were developed.\n",
    "1960s: Some notably successful natural language processing systems developed in the 1960s were SHRDLU, \n",
    "a natural language system working in restricted \"blocks worlds\" with restricted vocabularies, and ELIZA, \n",
    "a simulation of a Rogerian psychotherapist, written by Joseph Weizenbaum between 1964 and 1966. \n",
    "Using almost no information about human thought or emotion, ELIZA sometimes provided a startlingly human-like interaction. \n",
    "When the \"patient\" exceeded the very small knowledge base, ELIZA might provide a generic response, for example,\n",
    "responding to \"My head hurts\" with \"Why do you say your head hurts?\".\n",
    "1970s: During the 1970s, many programmers began to write \"conceptual ontologies\", \n",
    "which structured real-world information into computer-understandable data. Examples are MARGIE (Schank, 1975), \n",
    "SAM (Cullingford, 1978), PAM (Wilensky, 1978), TaleSpin (Meehan, 1976), QUALM (Lehnert, 1977), Politics (Carbonell, 1979), and Plot Units (Lehnert 1981). During this time, the first many chatterbots were written (e.g., PARRY).\n",
    "1980s: The 1980s and early 1990s mark the hey-day of symbolic methods in NLP. \n",
    "Focus areas of the time included research on rule-based parsing \n",
    "(e.g., the development of HPSG as a computational operationalization of generative grammar), \n",
    "morphology (e.g., two-level morphology[3]), semantics (e.g., Lesk algorithm),\n",
    "reference (e.g., within Centering Theory[4]) and other areas of natural language understanding \n",
    "(e.g., in the Rhetorical Structure Theory). Other lines of research were continued, \n",
    "e.g., the development of chatterbots with Racter and Jabberwacky. \n",
    "An important development (that eventually led to the statistical turn in the 1990s) was the rising importance of \n",
    "quantitative evaluation in this period.[5]Statistical NLP (1990s - 2010s)\n",
    "Up to the 1980s, most natural language processing systems were based on complex sets of hand-written rules. \n",
    "Starting in the late 1980s, however, there was a revolution in natural language processing with the \n",
    "introduction of machine learning algorithms for language processing. \n",
    "This was due to both the steady increase in computational power (see Moore's law)\n",
    "and the gradual lessening of the dominance of Chomskyan theories of linguistics (e.g. transformational grammar), \n",
    "whose theoretical underpinnings discouraged the sort of corpus linguistics that underlies the machine-learning approach to language processing.[6]\n",
    "\n",
    "1990s: Many of the notable early successes on statistical methods in NLP occurred \n",
    "in the field of machine translation, due especially to work at IBM Research. \n",
    "These systems were able to take advantage of existing multilingual textual corpora that had been produced by \n",
    "the Parliament of Canada and the European Union as a result of laws calling for the translation of all governmental proceedings\n",
    "into all official languages of the corresponding systems of government. \n",
    "However, most other systems depended on corpora specifically developed for the tasks implemented by these systems, \n",
    "which was (and often continues to be) a major limitation in the success of these systems. \n",
    "As a result, a great deal of research has gone into methods of more effectively learning from limited amounts of data.\n",
    "2000s: With the growth of the web, increasing amounts of raw (unannotated) language data has become available since the \n",
    "mid-1990s.\n",
    "Research has thus increasingly focused on unsupervised and semi-supervised learning algorithms. \n",
    "Such algorithms can learn from data that has not been hand-annotated with the desired answers or using a \n",
    "combination of annotated and non-annotated data. Generally, this task is much more difficult than supervised learning,\n",
    "and typically produces less accurate results for a given amount of input data. \n",
    "However, there is an enormous amount of non-annotated data available \n",
    "(including, among other things, the entire content of the World Wide Web), \n",
    "which can often make up for the inferior results if the algorithm used has a low enough time complexity to be practical.\n",
    "Neural NLP (present)In the 2010s, \n",
    "representation learning and deep neural network-style machine learning methods became widespread in natural language processing,\n",
    "due in part to a flurry of results showing that such techniques[7][8] can achieve state-of-the-art results in \n",
    "many natural language tasks, for example in language modeling,[9] parsing,[10][11] and many others.\"\"\"\n",
    "\n"
   ]
  },
  {
   "cell_type": "markdown",
   "metadata": {},
   "source": [
    "## 3. Converting Paragraph into list of sentences using sent_tokenize"
   ]
  },
  {
   "cell_type": "code",
   "execution_count": 19,
   "metadata": {},
   "outputs": [],
   "source": [
    "Sentence = nltk.sent_tokenize(Corpus)"
   ]
  },
  {
   "cell_type": "code",
   "execution_count": 20,
   "metadata": {},
   "outputs": [],
   "source": [
    "import pandas as pd"
   ]
  },
  {
   "cell_type": "code",
   "execution_count": 21,
   "metadata": {},
   "outputs": [
    {
     "data": {
      "text/html": [
       "<div>\n",
       "<style scoped>\n",
       "    .dataframe tbody tr th:only-of-type {\n",
       "        vertical-align: middle;\n",
       "    }\n",
       "\n",
       "    .dataframe tbody tr th {\n",
       "        vertical-align: top;\n",
       "    }\n",
       "\n",
       "    .dataframe thead th {\n",
       "        text-align: right;\n",
       "    }\n",
       "</style>\n",
       "<table border=\"1\" class=\"dataframe\">\n",
       "  <thead>\n",
       "    <tr style=\"text-align: right;\">\n",
       "      <th></th>\n",
       "      <th>Tokenized_Sentences</th>\n",
       "    </tr>\n",
       "  </thead>\n",
       "  <tbody>\n",
       "    <tr>\n",
       "      <th>0</th>\n",
       "      <td>Symbolic NLP (1950s - early 1990s)\\nThe premis...</td>\n",
       "    </tr>\n",
       "    <tr>\n",
       "      <th>1</th>\n",
       "      <td>1950s: The Georgetown experiment in 1954 invol...</td>\n",
       "    </tr>\n",
       "    <tr>\n",
       "      <th>2</th>\n",
       "      <td>The authors claimed that within three or five ...</td>\n",
       "    </tr>\n",
       "    <tr>\n",
       "      <th>3</th>\n",
       "      <td>[2] However, real progress was much slower, an...</td>\n",
       "    </tr>\n",
       "    <tr>\n",
       "      <th>4</th>\n",
       "      <td>Little further research in machine translation...</td>\n",
       "    </tr>\n",
       "  </tbody>\n",
       "</table>\n",
       "</div>"
      ],
      "text/plain": [
       "                                 Tokenized_Sentences\n",
       "0  Symbolic NLP (1950s - early 1990s)\\nThe premis...\n",
       "1  1950s: The Georgetown experiment in 1954 invol...\n",
       "2  The authors claimed that within three or five ...\n",
       "3  [2] However, real progress was much slower, an...\n",
       "4  Little further research in machine translation..."
      ]
     },
     "execution_count": 21,
     "metadata": {},
     "output_type": "execute_result"
    }
   ],
   "source": [
    "df = pd.DataFrame(data = Sentence, columns=['Tokenized_Sentences'])\n",
    "df.head()"
   ]
  },
  {
   "cell_type": "markdown",
   "metadata": {},
   "source": [
    "## 4. Converting Paragraph into list of Words using word_tokenize"
   ]
  },
  {
   "cell_type": "code",
   "execution_count": 22,
   "metadata": {},
   "outputs": [],
   "source": [
    "words = nltk.word_tokenize(Corpus)"
   ]
  }
 ],
 "metadata": {
  "kernelspec": {
   "display_name": "Python 3",
   "language": "python",
   "name": "python3"
  },
  "language_info": {
   "codemirror_mode": {
    "name": "ipython",
    "version": 3
   },
   "file_extension": ".py",
   "mimetype": "text/x-python",
   "name": "python",
   "nbconvert_exporter": "python",
   "pygments_lexer": "ipython3",
   "version": "3.7.6"
  }
 },
 "nbformat": 4,
 "nbformat_minor": 4
}
