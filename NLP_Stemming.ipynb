{
 "cells": [
  {
   "cell_type": "markdown",
   "metadata": {},
   "source": [
    "## Practice notebook for dataprocessing in NLP : Stemming and stopward removal"
   ]
  },
  {
   "cell_type": "markdown",
   "metadata": {},
   "source": [
    "**stopwords is dictionary of common words such as and,i,you,so ; which do not add any value during the sentimental analysis. Therefore we remove these words from corpus**\n",
    "\n",
    "**Stemming is the process in which if come, coming, came word repeats in sentence then stem will replace it with \"com\". So it checks repeating words and replace it with most repeated letters\"**"
   ]
  },
  {
   "cell_type": "markdown",
   "metadata": {},
   "source": [
    "## 1. Importing Porterstemmer for stemming and stopwards to remove common words"
   ]
  },
  {
   "cell_type": "code",
   "execution_count": 1,
   "metadata": {},
   "outputs": [],
   "source": [
    "import nltk\n",
    "from nltk.stem import PorterStemmer\n",
    "stemmer = PorterStemmer()\n",
    "from nltk.corpus import stopwords"
   ]
  },
  {
   "cell_type": "markdown",
   "metadata": {},
   "source": [
    "## 2. Importing Information about NLP from wikipedia"
   ]
  },
  {
   "cell_type": "code",
   "execution_count": 1,
   "metadata": {},
   "outputs": [],
   "source": [
    "Corpus= \"\"\"Symbolic NLP (1950s - early 1990s)\n",
    "The premise of symbolic NLP is well-summarized by John Searle's Chinese room experiment: \n",
    "Given a collection of rules (e.g., a Chinese phrasebook, with questions and matching answers), \n",
    "the computer emulates natural language understanding (or other NLP tasks) \n",
    "by applying those rules to the data it is confronted with.\n",
    "\n",
    "1950s: The Georgetown experiment in 1954 involved fully automatic translation of more than sixty Russian sentences into English.\n",
    "The authors claimed that within three or five years, machine translation would be a solved problem.\n",
    "[2] However, real progress was much slower, and after the ALPAC report in 1966, \n",
    "which found that ten-year-long research had failed to fulfill the expectations,\n",
    "funding for machine translation was dramatically reduced. \n",
    "Little further research in machine translation was conducted until \n",
    "the late 1980s when the first statistical machine translation systems were developed.\n",
    "1960s: Some notably successful natural language processing systems developed in the 1960s were SHRDLU, \n",
    "a natural language system working in restricted \"blocks worlds\" with restricted vocabularies, and ELIZA, \n",
    "a simulation of a Rogerian psychotherapist, written by Joseph Weizenbaum between 1964 and 1966. \n",
    "Using almost no information about human thought or emotion, ELIZA sometimes provided a startlingly human-like interaction. \n",
    "When the \"patient\" exceeded the very small knowledge base, ELIZA might provide a generic response, for example,\n",
    "responding to \"My head hurts\" with \"Why do you say your head hurts?\".\n",
    "1970s: During the 1970s, many programmers began to write \"conceptual ontologies\", \n",
    "which structured real-world information into computer-understandable data. Examples are MARGIE (Schank, 1975), \n",
    "SAM (Cullingford, 1978), PAM (Wilensky, 1978), TaleSpin (Meehan, 1976), QUALM (Lehnert, 1977), Politics (Carbonell, 1979), and Plot Units (Lehnert 1981). During this time, the first many chatterbots were written (e.g., PARRY).\n",
    "1980s: The 1980s and early 1990s mark the hey-day of symbolic methods in NLP. \n",
    "Focus areas of the time included research on rule-based parsing \n",
    "(e.g., the development of HPSG as a computational operationalization of generative grammar), \n",
    "morphology (e.g., two-level morphology[3]), semantics (e.g., Lesk algorithm),\n",
    "reference (e.g., within Centering Theory[4]) and other areas of natural language understanding \n",
    "(e.g., in the Rhetorical Structure Theory). Other lines of research were continued, \n",
    "e.g., the development of chatterbots with Racter and Jabberwacky. \n",
    "An important development (that eventually led to the statistical turn in the 1990s) was the rising importance of \n",
    "quantitative evaluation in this period.[5]Statistical NLP (1990s - 2010s)\n",
    "Up to the 1980s, most natural language processing systems were based on complex sets of hand-written rules. \n",
    "Starting in the late 1980s, however, there was a revolution in natural language processing with the \n",
    "introduction of machine learning algorithms for language processing. \n",
    "This was due to both the steady increase in computational power (see Moore's law)\n",
    "and the gradual lessening of the dominance of Chomskyan theories of linguistics (e.g. transformational grammar), \n",
    "whose theoretical underpinnings discouraged the sort of corpus linguistics that underlies the machine-learning approach to language processing.[6]\n",
    "\n",
    "1990s: Many of the notable early successes on statistical methods in NLP occurred \n",
    "in the field of machine translation, due especially to work at IBM Research. \n",
    "These systems were able to take advantage of existing multilingual textual corpora that had been produced by \n",
    "the Parliament of Canada and the European Union as a result of laws calling for the translation of all governmental proceedings\n",
    "into all official languages of the corresponding systems of government. \n",
    "However, most other systems depended on corpora specifically developed for the tasks implemented by these systems, \n",
    "which was (and often continues to be) a major limitation in the success of these systems. \n",
    "As a result, a great deal of research has gone into methods of more effectively learning from limited amounts of data.\n",
    "2000s: With the growth of the web, increasing amounts of raw (unannotated) language data has become available since the \n",
    "mid-1990s.\n",
    "Research has thus increasingly focused on unsupervised and semi-supervised learning algorithms. \n",
    "Such algorithms can learn from data that has not been hand-annotated with the desired answers or using a \n",
    "combination of annotated and non-annotated data. Generally, this task is much more difficult than supervised learning,\n",
    "and typically produces less accurate results for a given amount of input data. \n",
    "However, there is an enormous amount of non-annotated data available \n",
    "(including, among other things, the entire content of the World Wide Web), \n",
    "which can often make up for the inferior results if the algorithm used has a low enough time complexity to be practical.\n",
    "Neural NLP (present)In the 2010s, \n",
    "representation learning and deep neural network-style machine learning methods became widespread in natural language processing,\n",
    "due in part to a flurry of results showing that such techniques[7][8] can achieve state-of-the-art results in \n",
    "many natural language tasks, for example in language modeling,[9] parsing,[10][11] and many others.\"\"\"\n",
    "\n"
   ]
  },
  {
   "cell_type": "markdown",
   "metadata": {},
   "source": [
    "## 3. Converting entire paragraph into list of sentences"
   ]
  },
  {
   "cell_type": "code",
   "execution_count": 3,
   "metadata": {},
   "outputs": [],
   "source": [
    "sentenses= nltk.sent_tokenize(Corpus)\n"
   ]
  },
  {
   "cell_type": "markdown",
   "metadata": {},
   "source": [
    "## 4. Stemming the sentences and removing the stopwards"
   ]
  },
  {
   "cell_type": "markdown",
   "metadata": {},
   "source": [
    "**Steps:**\n",
    "\n",
    "1. Convering each sentence into list of word \n",
    "2. Keeping only word which is not in stopword dataset\n",
    "3. Stemming the remaining word\n",
    "4. Joining all words again to form a sentence"
   ]
  },
  {
   "cell_type": "code",
   "execution_count": 4,
   "metadata": {},
   "outputs": [],
   "source": [
    "\n",
    "for i in range(len(sentenses)):\n",
    "    words = nltk.word_tokenize(sentenses[i])\n",
    "    words = [stemmer.stem(word) for word in words if word not in set(stopwords.words('english'))]\n",
    "    sentenses[i] = ' '.join(words)\n",
    "    \n",
    "    \n",
    "    \n"
   ]
  },
  {
   "cell_type": "code",
   "execution_count": 5,
   "metadata": {},
   "outputs": [
    {
     "data": {
      "text/plain": [
       "[\"symbol nlp ( 1950 - earli 1990 ) the premis symbol nlp well-summar john searl 's chines room experi : given collect rule ( e.g. , chines phrasebook , question match answer ) , comput emul natur languag understand ( nlp task ) appli rule data confront .\",\n",
       " '1950 : the georgetown experi 1954 involv fulli automat translat sixti russian sentenc english .',\n",
       " 'the author claim within three five year , machin translat would solv problem .',\n",
       " '[ 2 ] howev , real progress much slower , alpac report 1966 , found ten-year-long research fail fulfil expect , fund machin translat dramat reduc .',\n",
       " 'littl research machin translat conduct late 1980 first statist machin translat system develop .',\n",
       " \"1960 : some notabl success natur languag process system develop 1960 shrdlu , natur languag system work restrict `` block world '' restrict vocabulari , eliza , simul rogerian psychotherapist , written joseph weizenbaum 1964 1966 .\",\n",
       " 'use almost inform human thought emot , eliza sometim provid startlingli human-lik interact .',\n",
       " \"when `` patient '' exceed small knowledg base , eliza might provid gener respons , exampl , respond `` My head hurt '' `` whi say head hurt ? `` .\",\n",
       " \"1970 : dure 1970 , mani programm began write `` conceptu ontolog '' , structur real-world inform computer-understand data .\",\n",
       " 'exampl margi ( schank , 1975 ) , sam ( cullingford , 1978 ) , pam ( wilenski , 1978 ) , talespin ( meehan , 1976 ) , qualm ( lehnert , 1977 ) , polit ( carbonel , 1979 ) , plot unit ( lehnert 1981 ) .',\n",
       " 'dure time , first mani chatterbot written ( e.g. , parri ) .',\n",
       " '1980 : the 1980 earli 1990 mark hey-day symbol method nlp .',\n",
       " 'focu area time includ research rule-bas pars ( e.g. , develop hpsg comput operation gener grammar ) , morpholog ( e.g. , two-level morpholog [ 3 ] ) , semant ( e.g. , lesk algorithm ) , refer ( e.g. , within center theori [ 4 ] ) area natur languag understand ( e.g. , rhetor structur theori ) .',\n",
       " 'other line research continu , e.g. , develop chatterbot racter jabberwacki .',\n",
       " 'An import develop ( eventu led statist turn 1990 ) rise import quantit evalu period .',\n",
       " '[ 5 ] statist nlp ( 1990 - 2010 ) Up 1980 , natur languag process system base complex set hand-written rule .',\n",
       " 'start late 1980 , howev , revolut natur languag process introduct machin learn algorithm languag process .',\n",
       " \"thi due steadi increas comput power ( see moor 's law ) gradual lessen domin chomskyan theori linguist ( e.g .\",\n",
       " 'transform grammar ) , whose theoret underpin discourag sort corpu linguist underli machine-learn approach languag process .',\n",
       " '[ 6 ] 1990 : mani notabl earli success statist method nlp occur field machin translat , due especi work ibm research .',\n",
       " 'these system abl take advantag exist multilingu textual corpora produc parliament canada european union result law call translat government proceed offici languag correspond system govern .',\n",
       " 'howev , system depend corpora specif develop task implement system , ( often continu ) major limit success system .',\n",
       " 'As result , great deal research gone method effect learn limit amount data .',\n",
       " '2000 : with growth web , increas amount raw ( unannot ) languag data becom avail sinc mid-1990 .',\n",
       " 'research thu increasingli focus unsupervis semi-supervis learn algorithm .',\n",
       " 'such algorithm learn data hand-annot desir answer use combin annot non-annot data .',\n",
       " 'gener , task much difficult supervis learn , typic produc less accur result given amount input data .',\n",
       " 'howev , enorm amount non-annot data avail ( includ , among thing , entir content world wide web ) , often make inferior result algorithm use low enough time complex practic .',\n",
       " 'neural nlp ( present ) In 2010 , represent learn deep neural network-styl machin learn method becam widespread natur languag process , due part flurri result show techniqu [ 7 ] [ 8 ] achiev state-of-the-art result mani natur languag task , exampl languag model , [ 9 ] pars , [ 10 ] [ 11 ] mani other .']"
      ]
     },
     "execution_count": 5,
     "metadata": {},
     "output_type": "execute_result"
    }
   ],
   "source": [
    "sentenses"
   ]
  }
 ],
 "metadata": {
  "kernelspec": {
   "display_name": "Python 3",
   "language": "python",
   "name": "python3"
  },
  "language_info": {
   "codemirror_mode": {
    "name": "ipython",
    "version": 3
   },
   "file_extension": ".py",
   "mimetype": "text/x-python",
   "name": "python",
   "nbconvert_exporter": "python",
   "pygments_lexer": "ipython3",
   "version": "3.7.6"
  }
 },
 "nbformat": 4,
 "nbformat_minor": 4
}
