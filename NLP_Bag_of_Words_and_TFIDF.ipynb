{
 "cells": [
  {
   "cell_type": "markdown",
   "metadata": {},
   "source": [
    "## Practice notebook for dataprocessing in NLP : Bag of words\n",
    "\n",
    "In this excersise I have converted Corpus in the for of vector of numerial data. Now we can use any algorithm on this numerical data for further analysis. I have used two methods:\n",
    "\n",
    "1. CountVectorizer\n",
    "2. TFIDF: It is product of Turm frequency and Inverse of document frequency\n",
    "\n",
    "Term frequency = Number of times a single term repeated in sentence/ Number of words in sentence\n",
    "\n",
    "Inverse Document frequency = log( Number of Sentences in corpus/No of sentences containing the word which is currently under itteration)"
   ]
  },
  {
   "cell_type": "markdown",
   "metadata": {},
   "source": [
    "## 1. Importing WordNetLemmatizer for stemming and stopwards to remove common words"
   ]
  },
  {
   "cell_type": "code",
   "execution_count": 7,
   "metadata": {},
   "outputs": [],
   "source": [
    "import nltk\n",
    "from nltk.stem import WordNetLemmatizer\n",
    "lemmitizing = WordNetLemmatizer()\n",
    "from nltk.corpus import stopwords"
   ]
  },
  {
   "cell_type": "markdown",
   "metadata": {},
   "source": [
    "## 2. Importing Information about NLP from wikipedia"
   ]
  },
  {
   "cell_type": "code",
   "execution_count": 8,
   "metadata": {},
   "outputs": [],
   "source": [
    "Corpus= \"\"\"Symbolic NLP (1950s - early 1990s)\n",
    "The premise of symbolic NLP is well-summarized by John Searle's Chinese room experiment: \n",
    "Given a collection of rules (e.g., a Chinese phrasebook, with questions and matching answers), \n",
    "the computer emulates natural language understanding (or other NLP tasks) \n",
    "by applying those rules to the data it is confronted with.\n",
    "\n",
    "1950s: The Georgetown experiment in 1954 involved fully automatic translation of more than sixty Russian sentences into English.\n",
    "The authors claimed that within three or five years, machine translation would be a solved problem.\n",
    "[2] However, real progress was much slower, and after the ALPAC report in 1966, \n",
    "which found that ten-year-long research had failed to fulfill the expectations,\n",
    "funding for machine translation was dramatically reduced. \n",
    "Little further research in machine translation was conducted until \n",
    "the late 1980s when the first statistical machine translation systems were developed.\n",
    "1960s: Some notably successful natural language processing systems developed in the 1960s were SHRDLU, \n",
    "a natural language system working in restricted \"blocks worlds\" with restricted vocabularies, and ELIZA, \n",
    "a simulation of a Rogerian psychotherapist, written by Joseph Weizenbaum between 1964 and 1966. \n",
    "Using almost no information about human thought or emotion, ELIZA sometimes provided a startlingly human-like interaction. \n",
    "When the \"patient\" exceeded the very small knowledge base, ELIZA might provide a generic response, for example,\n",
    "responding to \"My head hurts\" with \"Why do you say your head hurts?\".\n",
    "1970s: During the 1970s, many programmers began to write \"conceptual ontologies\", \n",
    "which structured real-world information into computer-understandable data. Examples are MARGIE (Schank, 1975), \n",
    "SAM (Cullingford, 1978), PAM (Wilensky, 1978), TaleSpin (Meehan, 1976), QUALM (Lehnert, 1977), Politics (Carbonell, 1979), and Plot Units (Lehnert 1981). During this time, the first many chatterbots were written (e.g., PARRY).\n",
    "1980s: The 1980s and early 1990s mark the hey-day of symbolic methods in NLP. \n",
    "Focus areas of the time included research on rule-based parsing \n",
    "(e.g., the development of HPSG as a computational operationalization of generative grammar), \n",
    "morphology (e.g., two-level morphology[3]), semantics (e.g., Lesk algorithm),\n",
    "reference (e.g., within Centering Theory[4]) and other areas of natural language understanding \n",
    "(e.g., in the Rhetorical Structure Theory). Other lines of research were continued, \n",
    "e.g., the development of chatterbots with Racter and Jabberwacky. \n",
    "An important development (that eventually led to the statistical turn in the 1990s) was the rising importance of \n",
    "quantitative evaluation in this period.[5]Statistical NLP (1990s - 2010s)\n",
    "Up to the 1980s, most natural language processing systems were based on complex sets of hand-written rules. \n",
    "Starting in the late 1980s, however, there was a revolution in natural language processing with the \n",
    "introduction of machine learning algorithms for language processing. \n",
    "This was due to both the steady increase in computational power (see Moore's law)\n",
    "and the gradual lessening of the dominance of Chomskyan theories of linguistics (e.g. transformational grammar), \n",
    "whose theoretical underpinnings discouraged the sort of corpus linguistics that underlies the machine-learning approach to language processing.[6]\n",
    "\n",
    "1990s: Many of the notable early successes on statistical methods in NLP occurred \n",
    "in the field of machine translation, due especially to work at IBM Research. \n",
    "These systems were able to take advantage of existing multilingual textual corpora that had been produced by \n",
    "the Parliament of Canada and the European Union as a result of laws calling for the translation of all governmental proceedings\n",
    "into all official languages of the corresponding systems of government. \n",
    "However, most other systems depended on corpora specifically developed for the tasks implemented by these systems, \n",
    "which was (and often continues to be) a major limitation in the success of these systems. \n",
    "As a result, a great deal of research has gone into methods of more effectively learning from limited amounts of data.\n",
    "2000s: With the growth of the web, increasing amounts of raw (unannotated) language data has become available since the \n",
    "mid-1990s.\n",
    "Research has thus increasingly focused on unsupervised and semi-supervised learning algorithms. \n",
    "Such algorithms can learn from data that has not been hand-annotated with the desired answers or using a \n",
    "combination of annotated and non-annotated data. Generally, this task is much more difficult than supervised learning,\n",
    "and typically produces less accurate results for a given amount of input data. \n",
    "However, there is an enormous amount of non-annotated data available \n",
    "(including, among other things, the entire content of the World Wide Web), \n",
    "which can often make up for the inferior results if the algorithm used has a low enough time complexity to be practical.\n",
    "Neural NLP (present)In the 2010s, \n",
    "representation learning and deep neural network-style machine learning methods became widespread in natural language processing,\n",
    "due in part to a flurry of results showing that such techniques[7][8] can achieve state-of-the-art results in \n",
    "many natural language tasks, for example in language modeling,[9] parsing,[10][11] and many others.\"\"\"\n",
    "\n"
   ]
  },
  {
   "cell_type": "markdown",
   "metadata": {},
   "source": [
    "## 3. Converting entire paragraph into list of sentences"
   ]
  },
  {
   "cell_type": "code",
   "execution_count": 15,
   "metadata": {},
   "outputs": [],
   "source": [
    "Sentences = nltk.sent_tokenize(Corpus)"
   ]
  },
  {
   "cell_type": "markdown",
   "metadata": {},
   "source": [
    "## 4. Lemmatizing the sentences and removing the stopwards"
   ]
  },
  {
   "cell_type": "code",
   "execution_count": 16,
   "metadata": {},
   "outputs": [],
   "source": [
    "for i in range(len(Sentences)):\n",
    "    words = nltk.word_tokenize(Sentences[i])\n",
    "    words = [lemmitizing.lemmatize(word) for word in words if word not in set(stopwords.words('english'))]\n",
    "    Sentences[i] = ' '.join(words)"
   ]
  },
  {
   "cell_type": "markdown",
   "metadata": {},
   "source": [
    "## 5. Importing Count Vectorizer to covert string data into numerical format"
   ]
  },
  {
   "cell_type": "code",
   "execution_count": 17,
   "metadata": {},
   "outputs": [],
   "source": [
    "from sklearn.feature_extraction.text import CountVectorizer\n",
    "Vectirizing = CountVectorizer()"
   ]
  },
  {
   "cell_type": "code",
   "execution_count": 19,
   "metadata": {},
   "outputs": [],
   "source": [
    "Vector = Vectirizing.fit_transform(Sentences).toarray() "
   ]
  },
  {
   "cell_type": "code",
   "execution_count": 20,
   "metadata": {},
   "outputs": [
    {
     "data": {
      "text/plain": [
       "array([[0, 0, 1, ..., 0, 0, 0],\n",
       "       [0, 0, 1, ..., 0, 0, 0],\n",
       "       [0, 0, 0, ..., 0, 0, 1],\n",
       "       ...,\n",
       "       [0, 0, 0, ..., 0, 0, 0],\n",
       "       [0, 0, 0, ..., 0, 0, 0],\n",
       "       [1, 1, 0, ..., 0, 0, 0]], dtype=int64)"
      ]
     },
     "execution_count": 20,
     "metadata": {},
     "output_type": "execute_result"
    }
   ],
   "source": [
    "Vector"
   ]
  },
  {
   "cell_type": "markdown",
   "metadata": {},
   "source": [
    "## 6. Importing TfidfVectorizer to covert string data into numerical format"
   ]
  },
  {
   "cell_type": "code",
   "execution_count": 21,
   "metadata": {},
   "outputs": [],
   "source": [
    "from sklearn.feature_extraction.text import TfidfVectorizer\n",
    "TFIDF = TfidfVectorizer()"
   ]
  },
  {
   "cell_type": "code",
   "execution_count": 25,
   "metadata": {},
   "outputs": [],
   "source": [
    "Nvector = TFIDF.fit_transform(Sentences).toarray()"
   ]
  },
  {
   "cell_type": "code",
   "execution_count": 26,
   "metadata": {},
   "outputs": [
    {
     "data": {
      "text/plain": [
       "array([[0.        , 0.        , 0.14980832, ..., 0.        , 0.        ,\n",
       "        0.        ],\n",
       "       [0.        , 0.        , 0.26240888, ..., 0.        , 0.        ,\n",
       "        0.        ],\n",
       "       [0.        , 0.        , 0.        , ..., 0.        , 0.        ,\n",
       "        0.28289315],\n",
       "       ...,\n",
       "       [0.        , 0.        , 0.        , ..., 0.        , 0.        ,\n",
       "        0.        ],\n",
       "       [0.        , 0.        , 0.        , ..., 0.        , 0.        ,\n",
       "        0.        ],\n",
       "       [0.15676576, 0.15676576, 0.        , ..., 0.        , 0.        ,\n",
       "        0.        ]])"
      ]
     },
     "execution_count": 26,
     "metadata": {},
     "output_type": "execute_result"
    }
   ],
   "source": [
    "Nvector"
   ]
  },
  {
   "cell_type": "markdown",
   "metadata": {},
   "source": [
    "**Here we can see the difference between the results provided by CountVectorizer and TfidfVectorizer**"
   ]
  }
 ],
 "metadata": {
  "kernelspec": {
   "display_name": "Python 3",
   "language": "python",
   "name": "python3"
  },
  "language_info": {
   "codemirror_mode": {
    "name": "ipython",
    "version": 3
   },
   "file_extension": ".py",
   "mimetype": "text/x-python",
   "name": "python",
   "nbconvert_exporter": "python",
   "pygments_lexer": "ipython3",
   "version": "3.7.6"
  }
 },
 "nbformat": 4,
 "nbformat_minor": 4
}
